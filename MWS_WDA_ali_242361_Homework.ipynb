{
  "cells": [
    {
      "cell_type": "markdown",
      "source": [
        "Students:\n",
        "\n",
        "Ali (ali_242361) -  George (george_237618)\n",
        "*F22- MWS - WDA Assignment*\n",
        "----\n"
      ],
      "metadata": {
        "id": "QNN3HfGRMUpr"
      }
    },
    {
      "cell_type": "markdown",
      "metadata": {
        "id": "uOW4J0HnKwWm"
      },
      "source": [
        "# Loading data from Kaggle\n",
        "(Requires an API key to access Kaggle Data, example key is provided in the zip file)\n"
      ]
    },
    {
      "cell_type": "code",
      "execution_count": 3,
      "metadata": {
        "id": "nIGDBiOFKpNI"
      },
      "outputs": [],
      "source": [
        "# install  required library \n",
        "! pip install -q kaggle\n",
        "! mkdir ~/.kaggle\n",
        "\n",
        "# The kaggle.json file contains API creds, you need to provide your own key to be able to download the  dataset.\n",
        "# please refer to the attached readme for more info\n",
        "! cp kaggle.json ~/.kaggle/\n",
        "! chmod 600 ~/.kaggle/kaggle.json"
      ]
    },
    {
      "cell_type": "code",
      "execution_count": 4,
      "metadata": {
        "colab": {
          "base_uri": "https://localhost:8080/"
        },
        "id": "6A4meQP6K1AL",
        "outputId": "3daf584f-e618-41a3-c56d-11b531cb6772"
      },
      "outputs": [
        {
          "output_type": "stream",
          "name": "stdout",
          "text": [
            "Downloading sample-sales-data.zip to /content\n",
            "\r  0% 0.00/77.5k [00:00<?, ?B/s]\n",
            "\r100% 77.5k/77.5k [00:00<00:00, 17.6MB/s]\n",
            "Archive:  /content/sample-sales-data.zip\n",
            "  inflating: sales_data_sample.csv   \n"
          ]
        }
      ],
      "source": [
        "# download & unzip data from kaggle after setup is complete\n",
        "! kaggle datasets download --force kyanyoga/sample-sales-data\n",
        "! unzip /content/sample-sales-data.zip"
      ]
    },
    {
      "cell_type": "markdown",
      "metadata": {
        "id": "U_uX0LY_Ls4z"
      },
      "source": [
        "# Reading data into Pandas dataframes"
      ]
    },
    {
      "cell_type": "code",
      "execution_count": 5,
      "metadata": {
        "id": "VIvjMliBLvr5"
      },
      "outputs": [],
      "source": [
        "import pandas as pd\n",
        "import numpy as np\n",
        "\n",
        "#loading data into a pandas dataframe with proper encoding standard\n",
        "sales = pd.read_csv('/content/sales_data_sample.csv',encoding='ISO-8859-1')\n"
      ]
    },
    {
      "cell_type": "code",
      "execution_count": 6,
      "metadata": {
        "id": "PJ0WPdW5MLJN",
        "colab": {
          "base_uri": "https://localhost:8080/"
        },
        "outputId": "1f363452-f0aa-4889-807b-bf0b13875ca3"
      },
      "outputs": [
        {
          "output_type": "stream",
          "name": "stdout",
          "text": [
            "<class 'pandas.core.frame.DataFrame'>\n",
            "RangeIndex: 2823 entries, 0 to 2822\n",
            "Data columns (total 9 columns):\n",
            " #   Column           Non-Null Count  Dtype  \n",
            "---  ------           --------------  -----  \n",
            " 0   ORDERNUMBER      2823 non-null   int64  \n",
            " 1   PRODUCTLINE      2823 non-null   object \n",
            " 2   QUANTITYORDERED  2823 non-null   int64  \n",
            " 3   PRICEEACH        2823 non-null   float64\n",
            " 4   ORDERDATE        2823 non-null   object \n",
            " 5   MONTH_ID         2823 non-null   int64  \n",
            " 6   ADDRESSLINE1     2823 non-null   object \n",
            " 7   CITY             2823 non-null   object \n",
            " 8   YEAR_ID          2823 non-null   int64  \n",
            "dtypes: float64(1), int64(4), object(4)\n",
            "memory usage: 198.6+ KB\n"
          ]
        }
      ],
      "source": [
        "# getting a copy so we don't perform ops on original dataset\n",
        "df = sales.copy()\n",
        "\n",
        "#choosing columns based on assignment Dataset text\n",
        "columns = ['ORDERNUMBER','PRODUCTLINE','QUANTITYORDERED','PRICEEACH','ORDERDATE','MONTH_ID','ADDRESSLINE1','CITY','YEAR_ID']\n",
        "df=df[columns]\n",
        "\n",
        "df.info()"
      ]
    },
    {
      "cell_type": "markdown",
      "metadata": {
        "id": "DdUTrtaMTb53"
      },
      "source": [
        "#Data Preprocessing\n",
        "\n",
        "we will be working on data for the last year only as dictated by assignment introduction pragaraph (it says last year not years).\n",
        "\n",
        "note that not much data preprocessing steps are necessary as the dataset seems to be OK (no emmpty cells in selected columns!)"
      ]
    },
    {
      "cell_type": "markdown",
      "source": [
        "##Removing data that is not from the last year"
      ],
      "metadata": {
        "id": "dvXMuvT-XIJe"
      }
    },
    {
      "cell_type": "code",
      "source": [
        "#We first get the last year value and the filter out irrelevant rows\n",
        "\n",
        "#last year is the max value of the YEAR_ID COLUMN\n",
        "last_year = df['YEAR_ID'].max()\n",
        "\n",
        "#removing entries  that are not from the last year\n",
        "df = df[df['YEAR_ID'] == last_year]\n",
        "df.info()"
      ],
      "metadata": {
        "colab": {
          "base_uri": "https://localhost:8080/"
        },
        "id": "d2SUxAvDXTUw",
        "outputId": "803b7f51-7477-4956-93f3-342bd130a7af"
      },
      "execution_count": 18,
      "outputs": [
        {
          "output_type": "stream",
          "name": "stdout",
          "text": [
            "<class 'pandas.core.frame.DataFrame'>\n",
            "Int64Index: 478 entries, 22 to 2822\n",
            "Data columns (total 10 columns):\n",
            " #   Column           Non-Null Count  Dtype  \n",
            "---  ------           --------------  -----  \n",
            " 0   ORDERNUMBER      478 non-null    int64  \n",
            " 1   PRODUCTLINE      478 non-null    object \n",
            " 2   QUANTITYORDERED  478 non-null    int64  \n",
            " 3   PRICEEACH        478 non-null    float64\n",
            " 4   ORDERDATE        478 non-null    object \n",
            " 5   MONTH_ID         478 non-null    int64  \n",
            " 6   ADDRESSLINE1     478 non-null    object \n",
            " 7   CITY             478 non-null    object \n",
            " 8   YEAR_ID          478 non-null    int64  \n",
            " 9   OrderRevenue     478 non-null    float64\n",
            "dtypes: float64(2), int64(4), object(4)\n",
            "memory usage: 41.1+ KB\n"
          ]
        }
      ]
    },
    {
      "cell_type": "markdown",
      "metadata": {
        "id": "uhpItQcITg88"
      },
      "source": [
        "##Filling Missing  Values"
      ]
    },
    {
      "cell_type": "code",
      "execution_count": 19,
      "metadata": {
        "colab": {
          "base_uri": "https://localhost:8080/"
        },
        "id": "SJtCmZwiTgk_",
        "outputId": "4d26de92-257d-4d1a-a6d5-23a013ab6c06"
      },
      "outputs": [
        {
          "output_type": "stream",
          "name": "stdout",
          "text": [
            "<class 'pandas.core.frame.DataFrame'>\n",
            "Int64Index: 478 entries, 22 to 2822\n",
            "Data columns (total 10 columns):\n",
            " #   Column           Non-Null Count  Dtype  \n",
            "---  ------           --------------  -----  \n",
            " 0   ORDERNUMBER      478 non-null    int64  \n",
            " 1   PRODUCTLINE      478 non-null    object \n",
            " 2   QUANTITYORDERED  478 non-null    int64  \n",
            " 3   PRICEEACH        478 non-null    float64\n",
            " 4   ORDERDATE        478 non-null    object \n",
            " 5   MONTH_ID         478 non-null    int64  \n",
            " 6   ADDRESSLINE1     478 non-null    object \n",
            " 7   CITY             478 non-null    object \n",
            " 8   YEAR_ID          478 non-null    int64  \n",
            " 9   OrderRevenue     478 non-null    float64\n",
            "dtypes: float64(2), int64(4), object(4)\n",
            "memory usage: 41.1+ KB\n"
          ]
        }
      ],
      "source": [
        "#Filling Missing Numerical Values (using means)\n",
        "numerical_columns =['ORDERNUMBER','QUANTITYORDERED','PRICEEACH']\n",
        "for column in numerical_columns:\n",
        "    df[column].fillna(df[column].mean(), inplace = True)\n",
        "    # df[column]= df[column].round().astype(int)\n",
        "df.info()"
      ]
    },
    {
      "cell_type": "code",
      "execution_count": 20,
      "metadata": {
        "colab": {
          "base_uri": "https://localhost:8080/",
          "height": 0
        },
        "id": "OK4_fxt6UIFT",
        "outputId": "baae8379-6c33-457b-e611-2b945db16ac8"
      },
      "outputs": [
        {
          "output_type": "stream",
          "name": "stdout",
          "text": [
            "<class 'pandas.core.frame.DataFrame'>\n",
            "Int64Index: 478 entries, 22 to 2822\n",
            "Data columns (total 10 columns):\n",
            " #   Column           Non-Null Count  Dtype  \n",
            "---  ------           --------------  -----  \n",
            " 0   ORDERNUMBER      478 non-null    int64  \n",
            " 1   PRODUCTLINE      478 non-null    object \n",
            " 2   QUANTITYORDERED  478 non-null    int64  \n",
            " 3   PRICEEACH        478 non-null    float64\n",
            " 4   ORDERDATE        478 non-null    object \n",
            " 5   MONTH_ID         478 non-null    int64  \n",
            " 6   ADDRESSLINE1     478 non-null    object \n",
            " 7   CITY             478 non-null    object \n",
            " 8   YEAR_ID          478 non-null    int64  \n",
            " 9   OrderRevenue     478 non-null    float64\n",
            "dtypes: float64(2), int64(4), object(4)\n",
            "memory usage: 41.1+ KB\n"
          ]
        },
        {
          "output_type": "execute_result",
          "data": {
            "text/plain": [
              "    ORDERNUMBER   PRODUCTLINE  QUANTITYORDERED  PRICEEACH       ORDERDATE  \\\n",
              "22        10375   Motorcycles               21      34.91   2/3/2005 0:00   \n",
              "23        10388   Motorcycles               42      76.36   3/3/2005 0:00   \n",
              "24        10403   Motorcycles               24     100.00   4/8/2005 0:00   \n",
              "25        10417   Motorcycles               66     100.00  5/13/2005 0:00   \n",
              "49        10369  Classic Cars               41     100.00  1/20/2005 0:00   \n",
              "\n",
              "    MONTH_ID                  ADDRESSLINE1         CITY  YEAR_ID  OrderRevenue  \n",
              "22         2  67, rue des Cinquante Otages       Nantes     2005        733.11  \n",
              "23         3             1785 First Street  New Bedford     2005       3207.12  \n",
              "24         4  Berkeley Gardens 12  Brewery    Liverpool     2005       2400.00  \n",
              "25         5            C/ Moralzarzal, 86       Madrid     2005       6600.00  \n",
              "49         1              7825 Douglas Av.   Brickhaven     2005       4100.00  "
            ],
            "text/html": [
              "\n",
              "  <div id=\"df-b67b88cf-7415-4a56-988a-206bb20bb3be\">\n",
              "    <div class=\"colab-df-container\">\n",
              "      <div>\n",
              "<style scoped>\n",
              "    .dataframe tbody tr th:only-of-type {\n",
              "        vertical-align: middle;\n",
              "    }\n",
              "\n",
              "    .dataframe tbody tr th {\n",
              "        vertical-align: top;\n",
              "    }\n",
              "\n",
              "    .dataframe thead th {\n",
              "        text-align: right;\n",
              "    }\n",
              "</style>\n",
              "<table border=\"1\" class=\"dataframe\">\n",
              "  <thead>\n",
              "    <tr style=\"text-align: right;\">\n",
              "      <th></th>\n",
              "      <th>ORDERNUMBER</th>\n",
              "      <th>PRODUCTLINE</th>\n",
              "      <th>QUANTITYORDERED</th>\n",
              "      <th>PRICEEACH</th>\n",
              "      <th>ORDERDATE</th>\n",
              "      <th>MONTH_ID</th>\n",
              "      <th>ADDRESSLINE1</th>\n",
              "      <th>CITY</th>\n",
              "      <th>YEAR_ID</th>\n",
              "      <th>OrderRevenue</th>\n",
              "    </tr>\n",
              "  </thead>\n",
              "  <tbody>\n",
              "    <tr>\n",
              "      <th>22</th>\n",
              "      <td>10375</td>\n",
              "      <td>Motorcycles</td>\n",
              "      <td>21</td>\n",
              "      <td>34.91</td>\n",
              "      <td>2/3/2005 0:00</td>\n",
              "      <td>2</td>\n",
              "      <td>67, rue des Cinquante Otages</td>\n",
              "      <td>Nantes</td>\n",
              "      <td>2005</td>\n",
              "      <td>733.11</td>\n",
              "    </tr>\n",
              "    <tr>\n",
              "      <th>23</th>\n",
              "      <td>10388</td>\n",
              "      <td>Motorcycles</td>\n",
              "      <td>42</td>\n",
              "      <td>76.36</td>\n",
              "      <td>3/3/2005 0:00</td>\n",
              "      <td>3</td>\n",
              "      <td>1785 First Street</td>\n",
              "      <td>New Bedford</td>\n",
              "      <td>2005</td>\n",
              "      <td>3207.12</td>\n",
              "    </tr>\n",
              "    <tr>\n",
              "      <th>24</th>\n",
              "      <td>10403</td>\n",
              "      <td>Motorcycles</td>\n",
              "      <td>24</td>\n",
              "      <td>100.00</td>\n",
              "      <td>4/8/2005 0:00</td>\n",
              "      <td>4</td>\n",
              "      <td>Berkeley Gardens 12  Brewery</td>\n",
              "      <td>Liverpool</td>\n",
              "      <td>2005</td>\n",
              "      <td>2400.00</td>\n",
              "    </tr>\n",
              "    <tr>\n",
              "      <th>25</th>\n",
              "      <td>10417</td>\n",
              "      <td>Motorcycles</td>\n",
              "      <td>66</td>\n",
              "      <td>100.00</td>\n",
              "      <td>5/13/2005 0:00</td>\n",
              "      <td>5</td>\n",
              "      <td>C/ Moralzarzal, 86</td>\n",
              "      <td>Madrid</td>\n",
              "      <td>2005</td>\n",
              "      <td>6600.00</td>\n",
              "    </tr>\n",
              "    <tr>\n",
              "      <th>49</th>\n",
              "      <td>10369</td>\n",
              "      <td>Classic Cars</td>\n",
              "      <td>41</td>\n",
              "      <td>100.00</td>\n",
              "      <td>1/20/2005 0:00</td>\n",
              "      <td>1</td>\n",
              "      <td>7825 Douglas Av.</td>\n",
              "      <td>Brickhaven</td>\n",
              "      <td>2005</td>\n",
              "      <td>4100.00</td>\n",
              "    </tr>\n",
              "  </tbody>\n",
              "</table>\n",
              "</div>\n",
              "      <button class=\"colab-df-convert\" onclick=\"convertToInteractive('df-b67b88cf-7415-4a56-988a-206bb20bb3be')\"\n",
              "              title=\"Convert this dataframe to an interactive table.\"\n",
              "              style=\"display:none;\">\n",
              "        \n",
              "  <svg xmlns=\"http://www.w3.org/2000/svg\" height=\"24px\"viewBox=\"0 0 24 24\"\n",
              "       width=\"24px\">\n",
              "    <path d=\"M0 0h24v24H0V0z\" fill=\"none\"/>\n",
              "    <path d=\"M18.56 5.44l.94 2.06.94-2.06 2.06-.94-2.06-.94-.94-2.06-.94 2.06-2.06.94zm-11 1L8.5 8.5l.94-2.06 2.06-.94-2.06-.94L8.5 2.5l-.94 2.06-2.06.94zm10 10l.94 2.06.94-2.06 2.06-.94-2.06-.94-.94-2.06-.94 2.06-2.06.94z\"/><path d=\"M17.41 7.96l-1.37-1.37c-.4-.4-.92-.59-1.43-.59-.52 0-1.04.2-1.43.59L10.3 9.45l-7.72 7.72c-.78.78-.78 2.05 0 2.83L4 21.41c.39.39.9.59 1.41.59.51 0 1.02-.2 1.41-.59l7.78-7.78 2.81-2.81c.8-.78.8-2.07 0-2.86zM5.41 20L4 18.59l7.72-7.72 1.47 1.35L5.41 20z\"/>\n",
              "  </svg>\n",
              "      </button>\n",
              "      \n",
              "  <style>\n",
              "    .colab-df-container {\n",
              "      display:flex;\n",
              "      flex-wrap:wrap;\n",
              "      gap: 12px;\n",
              "    }\n",
              "\n",
              "    .colab-df-convert {\n",
              "      background-color: #E8F0FE;\n",
              "      border: none;\n",
              "      border-radius: 50%;\n",
              "      cursor: pointer;\n",
              "      display: none;\n",
              "      fill: #1967D2;\n",
              "      height: 32px;\n",
              "      padding: 0 0 0 0;\n",
              "      width: 32px;\n",
              "    }\n",
              "\n",
              "    .colab-df-convert:hover {\n",
              "      background-color: #E2EBFA;\n",
              "      box-shadow: 0px 1px 2px rgba(60, 64, 67, 0.3), 0px 1px 3px 1px rgba(60, 64, 67, 0.15);\n",
              "      fill: #174EA6;\n",
              "    }\n",
              "\n",
              "    [theme=dark] .colab-df-convert {\n",
              "      background-color: #3B4455;\n",
              "      fill: #D2E3FC;\n",
              "    }\n",
              "\n",
              "    [theme=dark] .colab-df-convert:hover {\n",
              "      background-color: #434B5C;\n",
              "      box-shadow: 0px 1px 3px 1px rgba(0, 0, 0, 0.15);\n",
              "      filter: drop-shadow(0px 1px 2px rgba(0, 0, 0, 0.3));\n",
              "      fill: #FFFFFF;\n",
              "    }\n",
              "  </style>\n",
              "\n",
              "      <script>\n",
              "        const buttonEl =\n",
              "          document.querySelector('#df-b67b88cf-7415-4a56-988a-206bb20bb3be button.colab-df-convert');\n",
              "        buttonEl.style.display =\n",
              "          google.colab.kernel.accessAllowed ? 'block' : 'none';\n",
              "\n",
              "        async function convertToInteractive(key) {\n",
              "          const element = document.querySelector('#df-b67b88cf-7415-4a56-988a-206bb20bb3be');\n",
              "          const dataTable =\n",
              "            await google.colab.kernel.invokeFunction('convertToInteractive',\n",
              "                                                     [key], {});\n",
              "          if (!dataTable) return;\n",
              "\n",
              "          const docLinkHtml = 'Like what you see? Visit the ' +\n",
              "            '<a target=\"_blank\" href=https://colab.research.google.com/notebooks/data_table.ipynb>data table notebook</a>'\n",
              "            + ' to learn more about interactive tables.';\n",
              "          element.innerHTML = '';\n",
              "          dataTable['output_type'] = 'display_data';\n",
              "          await google.colab.output.renderOutput(dataTable, element);\n",
              "          const docLink = document.createElement('div');\n",
              "          docLink.innerHTML = docLinkHtml;\n",
              "          element.appendChild(docLink);\n",
              "        }\n",
              "      </script>\n",
              "    </div>\n",
              "  </div>\n",
              "  "
            ]
          },
          "metadata": {},
          "execution_count": 20
        }
      ],
      "source": [
        "# Filling missing categorical values (usng frequencies)\n",
        "categorical_columns = ['PRODUCTLINE','ORDERDATE','ADDRESSLINE1','CITY']\n",
        "\n",
        "most_frequent_item = {}\n",
        "for column in categorical_columns:\n",
        "    most_frequent_item[column] = df[column].mode()[0]\n",
        "\n",
        "for column in categorical_columns:\n",
        "   df[column].fillna( most_frequent_item[column], inplace = True)\n",
        "\n",
        "df.info()\n",
        "df.head()"
      ]
    },
    {
      "cell_type": "markdown",
      "source": [
        "*Note that we did not encode \"PRODUCTLINE\" as it doesn't affect our analysis. we only use this column for categorizing and encoding it would not add any valuable performance boost.*"
      ],
      "metadata": {
        "id": "YjeOz6dCImNT"
      }
    },
    {
      "cell_type": "markdown",
      "metadata": {
        "id": "ccfL79b7Utpb"
      },
      "source": [
        "#Computing Metric for Each Product"
      ]
    },
    {
      "cell_type": "markdown",
      "metadata": {
        "id": "zNqVRwrQUxhc"
      },
      "source": [
        "##Total Revenue Generated per Product"
      ]
    },
    {
      "cell_type": "code",
      "execution_count": 21,
      "metadata": {
        "colab": {
          "base_uri": "https://localhost:8080/"
        },
        "id": "rOlNZJ88U2kn",
        "outputId": "1d4edf4a-024c-4de0-80a4-8650515b7933"
      },
      "outputs": [
        {
          "output_type": "stream",
          "name": "stdout",
          "text": [
            "PRODUCTLINE\n",
            "Classic Cars        527652\n",
            "Motorcycles         192486\n",
            "Planes              175849\n",
            "Ships               119195\n",
            "Trains               30691\n",
            "Trucks and Buses    146772\n",
            "Vintage Cars        286391\n",
            "Name: OrderRevenue, dtype: int64\n"
          ]
        }
      ],
      "source": [
        "# Total Revenue = QUANTITYORDERED * PRICEEACH\n",
        "# Create a new column called \"revenue\" that multiplies \"QUANTITYORDERED\" and \"PRICEEACH\"\n",
        "df['OrderRevenue'] = df['QUANTITYORDERED'] * df['PRICEEACH']\n",
        "\n",
        "# Group your data by PRODUCTLINE and calculate the total revenue for each group\n",
        "revenue_per_product_line = df.groupby('PRODUCTLINE')['OrderRevenue'].sum()\n",
        "\n",
        "# Round revenue to 2 decimal places\n",
        "revenue_per_product_line = revenue_per_product_line.round().astype(int)\n",
        "\n",
        "print(revenue_per_product_line)\n"
      ]
    },
    {
      "cell_type": "markdown",
      "metadata": {
        "id": "JC9__XA8U3Eq"
      },
      "source": [
        "##Total Units Sold per Product"
      ]
    },
    {
      "cell_type": "code",
      "execution_count": 22,
      "metadata": {
        "colab": {
          "base_uri": "https://localhost:8080/"
        },
        "id": "hGaMcRmsU-Is",
        "outputId": "0d8e3857-034d-4cd5-8624-5fc23f2f30f6"
      },
      "outputs": [
        {
          "output_type": "stream",
          "name": "stdout",
          "text": [
            "PRODUCTLINE\n",
            "Classic Cars        6101\n",
            "Motorcycles         2234\n",
            "Planes              2207\n",
            "Ships               1346\n",
            "Trains               409\n",
            "Trucks and Buses    1719\n",
            "Vintage Cars        3615\n",
            "Name: QUANTITYORDERED, dtype: int64\n"
          ]
        }
      ],
      "source": [
        "# Total Units sold is the total sum of QUANTITYORDERED column grouped by the product\n",
        "\n",
        "total_units_sold_per_product_line = df.groupby('PRODUCTLINE')['QUANTITYORDERED'].sum()\n",
        "print(total_units_sold_per_product_line)"
      ]
    },
    {
      "cell_type": "markdown",
      "metadata": {
        "id": "HdJ_IX0vU_1d"
      },
      "source": [
        "##Average Price per Product Unit"
      ]
    },
    {
      "cell_type": "code",
      "execution_count": 23,
      "metadata": {
        "colab": {
          "base_uri": "https://localhost:8080/"
        },
        "id": "DW_MyuQgVDgV",
        "outputId": "d09f5059-485e-4a04-8dab-b49f4ed069cc"
      },
      "outputs": [
        {
          "output_type": "stream",
          "name": "stdout",
          "text": [
            "PRODUCTLINE\n",
            "Classic Cars        86\n",
            "Motorcycles         86\n",
            "Planes              80\n",
            "Ships               89\n",
            "Trains              75\n",
            "Trucks and Buses    85\n",
            "Vintage Cars        79\n",
            "dtype: int64\n"
          ]
        }
      ],
      "source": [
        "# Average price = TOTALREVENUE / QUANTITYORDERED \n",
        "average_price_per_product_line = ( revenue_per_product_line / total_units_sold_per_product_line\n",
        ").round().astype(int)\n",
        "\n",
        "print(average_price_per_product_line )"
      ]
    },
    {
      "cell_type": "markdown",
      "metadata": {
        "id": "U-n9O3c-VEIy"
      },
      "source": [
        "##Total Number of Orders per Product"
      ]
    },
    {
      "cell_type": "code",
      "execution_count": 24,
      "metadata": {
        "colab": {
          "base_uri": "https://localhost:8080/"
        },
        "id": "we7WYSB6cmkA",
        "outputId": "87e30d69-1291-44ac-ca09-5e6e53bb5452"
      },
      "outputs": [
        {
          "output_type": "stream",
          "name": "stdout",
          "text": [
            "PRODUCTLINE\n",
            "Classic Cars        159\n",
            "Motorcycles          58\n",
            "Planes               60\n",
            "Ships                38\n",
            "Trains               12\n",
            "Trucks and Buses     49\n",
            "Vintage Cars        102\n",
            "Name: PRODUCTLINE, dtype: int64\n"
          ]
        }
      ],
      "source": [
        "#total number of orders = count of rows as each row is exactly one order\n",
        "\n",
        "total_number_of_orders_per_product_line = total_units_sold = df.groupby('PRODUCTLINE')['PRODUCTLINE'].count()\n",
        "\n",
        "print(total_number_of_orders_per_product_line)"
      ]
    },
    {
      "cell_type": "markdown",
      "metadata": {
        "id": "TYZRGcKofB-9"
      },
      "source": [
        "##Ranking Products Based on Metrics"
      ]
    },
    {
      "cell_type": "code",
      "execution_count": 25,
      "metadata": {
        "colab": {
          "base_uri": "https://localhost:8080/"
        },
        "id": "51EbkZzTfEeG",
        "outputId": "62289ffe-d795-4818-fa2e-05565cbaa20c"
      },
      "outputs": [
        {
          "output_type": "stream",
          "name": "stdout",
          "text": [
            "                  revenue  units sold  price (avg)  Numbr of orders\n",
            "PRODUCTLINE                                                        \n",
            "Classic Cars            7           7            6                7\n",
            "Motorcycles             5           4            6                4\n",
            "Planes                  4           5            3                5\n",
            "Ships                   2           2            7                2\n",
            "Trains                  1           1            1                1\n",
            "Trucks and Buses        3           3            4                3\n",
            "Vintage Cars            6           6            2                6\n"
          ]
        }
      ],
      "source": [
        "# rank products based on each metric\n",
        "\n",
        "rank_total_revenue = revenue_per_product_line.rank().round().astype(int)\n",
        "rank_total_units_sold = total_units_sold.rank().round().astype(int)\n",
        "rank_average_price = average_price_per_product_line.rank().round().astype(int)\n",
        "rank_total_No_orders = total_number_of_orders_per_product_line.rank().round().astype(int)\n",
        "\n",
        "# create a dictionary with  rank data\n",
        "rank_data = {'revenue': rank_total_revenue,\n",
        "             'units sold': rank_total_units_sold,\n",
        "             'price (avg)': rank_average_price,\n",
        "             'Numbr of orders': rank_total_No_orders}\n",
        "\n",
        "# create a new DataFrame with your rank data\n",
        "rank_df = pd.DataFrame(rank_data)\n",
        "\n",
        "print(rank_df)"
      ]
    },
    {
      "cell_type": "markdown",
      "metadata": {
        "id": "6k5g8V_3kXya"
      },
      "source": [
        "##Generating Ranking Visualization and results"
      ]
    },
    {
      "cell_type": "code",
      "execution_count": 26,
      "metadata": {
        "colab": {
          "base_uri": "https://localhost:8080/",
          "height": 0
        },
        "id": "Vg9tVEnkkfHP",
        "outputId": "d894f6f0-188f-4019-b7d5-1c1232250282"
      },
      "outputs": [
        {
          "output_type": "execute_result",
          "data": {
            "text/plain": [
              "<Axes: xlabel='PRODUCTLINE'>"
            ]
          },
          "metadata": {},
          "execution_count": 26
        },
        {
          "output_type": "display_data",
          "data": {
            "text/plain": [
              "<Figure size 1000x500 with 1 Axes>"
            ],
            "image/png": "[encoded data removed]"
          },
          "metadata": {}
        }
      ],
      "source": [
        "#Generating visualzation\n",
        "rank_df.plot(kind='bar', figsize=(10, 5))\n",
        "# plt.xticks(rotation=0)\n",
        "# plt.xlabel('Product Line')\n",
        "# plt.ylabel('Rank')\n",
        "# plt.show()"
      ]
    },
    {
      "cell_type": "markdown",
      "metadata": {
        "id": "yTPwNB3VjWhW"
      },
      "source": [
        "##1   Classing Cars\n",
        "To maintain or boost performance for Classic Cars, the company could consider expanding its product line to include limited edition releases. Additionally, the company could explore partnerships or collaborations with other brands to increase visibility and reach new customers.\n",
        "\n",
        "##2  Motorcycles\n",
        "To maintain or boost performance for Motorcycles, the company could consider offering customization options or accessories to allow customers to personalize their purchases. Additionally, the company could explore targeted marketing campaigns to reach new customer segments.\n",
        "Also, the company should offer discounts occasional or decrease the price if possible.\n",
        "\n",
        "##3 Planes\n",
        "Thanks to the high number of orders, We believe that the company should consider a price increase for planes category as this will generate more revenue. Noticing that the order pool is big enough, the company might consider sponsored products or collaborations with international airlines and official governmental agencies.\n",
        "\n",
        "##4 Ships\n",
        "With relatively low revenue and total sales while having prices in the upper tiers, We recommend a total renovation for ships production as this category poses a future finacial loss for the company. Either move out of the Ships industry (via selling) or investigate heavliy in market awarness campaigns alognside contracting legetimate foreign entities.\n",
        "\n",
        "##5 Trains\n",
        "Due to their nature, trains might not have potential big sales pools but this does not mean the company cannot make more money on them. We suggest a investigating a new sales model for trains and scanning the market for potential spots, especially in rapid-growth countries. Also, we believe that modern trains with state-of-the-art technologies (electric trains for example) would increase the company's total profit and sales number.\n",
        "\n",
        "##6 Trucks and Buses\n",
        "Being around the median entries, we heavily suggest that the company shuold consider investing in high-tech Trucks and buses. With automation on the rise, we suggest selling AI-enabled trucks and buses with built-in devices for tracking and state managemen. This will positively impact total sales especially for bulk purchases (like from governmental entities) which in turn would increase revenue whil maintaining same prices thanks to cheaper solutions offered by modern technologies.\n",
        "\n",
        "##7 Vintage Cars\n",
        "Since Vitnage cars have relatively large sales compared with prices, the company might consider a new pricing model like subscription models that are known to bring more revenue with sales of high volume and low prices. And thanks to the time prefernce of vintage cars, the company can host special events for rare cars that can be sold with exxtremely high prices occasionally.\n",
        "\n",
        "\n",
        "---\n",
        "\n",
        "\n",
        "\n",
        "\n",
        "##**to summarize**\n",
        "Clasic cars bring in the most revenue, with Vintage cars coming second.\n",
        "There is a huge potential for generating more revenue from the Vintage Cars product line. read below for more details.\n",
        "Investigate the poor performance in the trains product line and consider selling this division if no future projects are guaranteed. Otherwise, trains can cause major losses in the future.\n",
        "Ships & Planes prices must be re-evaluated:\n",
        "There's more potential Revenue in increasing Planes prices as the demand is quite high but for ships the company should investiage new approaches to lower their prices."
      ]
    },
    {
      "cell_type": "markdown",
      "source": [
        "#Computing Metric for Each Month"
      ],
      "metadata": {
        "id": "Vh9g_HBvqRJk"
      }
    },
    {
      "cell_type": "markdown",
      "source": [
        "##Total Revenue Generated per Month"
      ],
      "metadata": {
        "id": "SkMK2OrnqaVi"
      }
    },
    {
      "cell_type": "code",
      "source": [
        "# Total Revenue = QUANTITYORDERED * PRICEEACH\n",
        "\n",
        "df['OrderRevenue'] = df['QUANTITYORDERED'] * df['PRICEEACH']\n",
        "\n",
        "# Group your data by PRODUCTLINE and calculate the total revenue for each month\n",
        "revenue_per_month = df.groupby('MONTH_ID')['OrderRevenue'].sum().round().astype(int)\n",
        "\n",
        "print(revenue_per_month)"
      ],
      "metadata": {
        "colab": {
          "base_uri": "https://localhost:8080/"
        },
        "id": "nfb3O2KxqVLp",
        "outputId": "44aa062d-7bf1-42c6-81ca-99d525a9ac5c"
      },
      "execution_count": 27,
      "outputs": [
        {
          "output_type": "stream",
          "name": "stdout",
          "text": [
            "MONTH_ID\n",
            "1    283680\n",
            "2    289902\n",
            "3    315132\n",
            "4    217978\n",
            "5    372344\n",
            "Name: OrderRevenue, dtype: int64\n"
          ]
        }
      ]
    },
    {
      "cell_type": "markdown",
      "source": [
        "##Total Units Sold per Month"
      ],
      "metadata": {
        "id": "aq0LaA4DsoHC"
      }
    },
    {
      "cell_type": "code",
      "source": [
        "# Total Units sold is the total sum of QUANTITYORDERED column grouped by the month\n",
        "total_units_sold_per_month = df.groupby('MONTH_ID')['QUANTITYORDERED'].sum()\n",
        "print(total_units_sold_per_month)"
      ],
      "metadata": {
        "colab": {
          "base_uri": "https://localhost:8080/"
        },
        "id": "Pf-AHjBMsmjc",
        "outputId": "9d393512-24ad-4170-9b34-e02b245721c5"
      },
      "execution_count": 28,
      "outputs": [
        {
          "output_type": "stream",
          "name": "stdout",
          "text": [
            "MONTH_ID\n",
            "1    3395\n",
            "2    3393\n",
            "3    3852\n",
            "4    2634\n",
            "5    4357\n",
            "Name: QUANTITYORDERED, dtype: int64\n"
          ]
        }
      ]
    },
    {
      "cell_type": "markdown",
      "source": [
        "##Average Price per Unit per Month"
      ],
      "metadata": {
        "id": "4eX9N0WltK0P"
      }
    },
    {
      "cell_type": "code",
      "source": [
        "# Average price = TOTALREVENUE / QUANTITYORDERED \n",
        "average_price_per_month = ( revenue_per_month / total_units_sold_per_month\n",
        ").round().astype(int)\n",
        "\n",
        "print(average_price_per_month )"
      ],
      "metadata": {
        "colab": {
          "base_uri": "https://localhost:8080/"
        },
        "id": "JNJD9iD1tNmq",
        "outputId": "e25417d0-8291-4164-f06a-ed76167fee9c"
      },
      "execution_count": 29,
      "outputs": [
        {
          "output_type": "stream",
          "name": "stdout",
          "text": [
            "MONTH_ID\n",
            "1    84\n",
            "2    85\n",
            "3    82\n",
            "4    83\n",
            "5    85\n",
            "dtype: int64\n"
          ]
        }
      ]
    },
    {
      "cell_type": "markdown",
      "source": [
        "##Generating Report"
      ],
      "metadata": {
        "id": "qHdAzoovt4Vk"
      }
    },
    {
      "cell_type": "code",
      "source": [
        "import matplotlib.pyplot as plt\n",
        "import pandas as pd\n",
        "\n",
        "months=df['MONTH_ID'].unique()\n",
        "months.sort()\n",
        "# plot revenue over time\n",
        "# create subplots\n",
        "fig, axs = plt.subplots(1,3, figsize=(15, 5))\n",
        "\n",
        "# plot revenue over time\n",
        "axs[0].plot(months, revenue_per_month, )\n",
        "axs[0].set_title('Revenue Over Time')\n",
        "axs[0].set_xlabel('Month')\n",
        "axs[0].set_ylabel('Revenue')\n",
        "axs[0].set_xticks(months)\n",
        "# plot units sold over time\n",
        "axs[1].plot(months, total_units_sold_per_month)\n",
        "axs[1].set_title('Units Sold Over Time')\n",
        "axs[1].set_xlabel('Month')\n",
        "axs[1].set_ylabel('Units Sold')\n",
        "axs[1].set_xticks(months)\n",
        "# plot average price over time\n",
        "axs[2].plot(months, average_price_per_month)\n",
        "axs[2].set_title('Average Price Over Time')\n",
        "axs[2].set_xlabel('Month')\n",
        "axs[2].set_ylabel('Average Price')\n",
        "axs[2].set_xticks(months)\n",
        "\n",
        "plt.show()"
      ],
      "metadata": {
        "colab": {
          "base_uri": "https://localhost:8080/",
          "height": 0
        },
        "id": "NhaE8Sjwt7mL",
        "outputId": "e48b394a-c912-4156-8b05-501ce2fb5886"
      },
      "execution_count": 30,
      "outputs": [
        {
          "output_type": "display_data",
          "data": {
            "text/plain": [
              "<Figure size 1500x500 with 3 Axes>"
            ],
            "image/png": "[encoded data removed]"
          },
          "metadata": {}
        }
      ]
    },
    {
      "cell_type": "code",
      "source": [
        "#Seperated plots\n",
        "\n",
        "# import matplotlib.pyplot as plt\n",
        "# import pandas as pd\n",
        "\n",
        "# months=df['MONTH_ID'].unique()\n",
        "# months.sort()\n",
        "# # plot revenue over time\n",
        "# fig1, ax1 = plt.subplots()\n",
        "# ax1.plot(months, revenue_per_month)\n",
        "# ax1.set_title('Revenue Over Time')\n",
        "# ax1.set_xlabel('Month')\n",
        "# ax1.set_ylabel('Revenue')\n",
        "# ax1.set_xticks(months)\n",
        "\n",
        "# # plot units sold over time\n",
        "# fig2, ax2 = plt.subplots()\n",
        "# ax2.plot(months, total_units_sold_per_month)\n",
        "# ax2.set_title('Units Sold Over Time')\n",
        "# ax2.set_xlabel('Month')\n",
        "# ax2.set_ylabel('Units Sold')\n",
        "# ax2.set_xticks(months)\n",
        "\n",
        "# # plot average price over time\n",
        "# fig3, ax3 = plt.subplots()\n",
        "# ax3.plot(months, average_price_per_month)\n",
        "# ax3.set_title('Average Price Over Time')\n",
        "# ax3.set_xlabel('Month')\n",
        "# ax3.set_ylabel('Average Price')\n",
        "# ax3.set_xticks(months)\n",
        "\n",
        "# plt.show()"
      ],
      "metadata": {
        "id": "Z67qE4U4AWLS"
      },
      "execution_count": 31,
      "outputs": []
    },
    {
      "cell_type": "markdown",
      "source": [
        "##Findings:\n",
        "\n",
        "In the first 2 months we can that the company made little profit thanks stable sales even though the price was increased. Also, the sharp decline of price between month 2(February) and month 3(March) resulted in a stronger positive trend towards more sales with tangible revenue generated.\n",
        "\n",
        "However, Between month 3(March) and month 5(May) we can clearly identify a V-shape rebound for sales and revenue to higher levels than before; but we cannot say the same for prices. In fact, from month 3(March) onwards, the prices kept increasing with accelerated increase from month 4(April). This indicates that the company's strategy for extremely lowering the price to freshen up their sales is a working strategy that yields more revenue in the long run.\n",
        "\n",
        "We suggest that the company follows the same trend but with longer periods. For example, they might apply the same strategy over periods ranging between 3 to 6 months. This way, the company will be to generate more profit and keep their gross sale movement active whil not harming the price on the initial price drop."
      ],
      "metadata": {
        "id": "qa7bIyPwx1QD"
      }
    },
    {
      "cell_type": "markdown",
      "source": [
        "#Identifying Top 5 Highest selling Cities"
      ],
      "metadata": {
        "id": "yH0hmu_rGxkm"
      }
    },
    {
      "cell_type": "markdown",
      "source": [
        "To get the highest selling Cities, we need to calculate the total revenue per city, rank results, and the top 5 ranks (highest values) will be our top 5 selling cities"
      ],
      "metadata": {
        "id": "oBNR9RCFG3so"
      }
    },
    {
      "cell_type": "code",
      "source": [
        "#Total Revenue = QUANTITYORDERED * PRICEEACH\n",
        "\n",
        "df['OrderRevenue'] = df['QUANTITYORDERED'] * df['PRICEEACH']\n",
        "\n",
        "# Group the data by City and calculate the total revenue for each month\n",
        "revenue_per_city = df.groupby('CITY')['OrderRevenue'].sum().round().astype(int)\n",
        "\n",
        "revenue_per_city = revenue_per_city.sort_values(ascending=False)\n",
        "\n",
        "print(revenue_per_city)"
      ],
      "metadata": {
        "colab": {
          "base_uri": "https://localhost:8080/"
        },
        "id": "53ihls0SdN1z",
        "outputId": "72db190d-cdcd-4c81-f35a-a2a7466f6e35"
      },
      "execution_count": 32,
      "outputs": [
        {
          "output_type": "stream",
          "name": "stdout",
          "text": [
            "CITY\n",
            "Madrid            266457\n",
            "San Rafael        173160\n",
            "Nantes             84116\n",
            "San Jose           77690\n",
            "Reims              48729\n",
            "North Sydney       47541\n",
            "Oulu               47183\n",
            "Salzburg           46475\n",
            "Newark             46391\n",
            "Boston             44166\n",
            "Espoo              43870\n",
            "San Francisco      42113\n",
            "Chatswood          41860\n",
            "Reggio Emilia      37493\n",
            "New Bedford        36667\n",
            "Pasadena           35762\n",
            "Liverpool          32056\n",
            "Minato-ku          30740\n",
            "Strasbourg         28752\n",
            "Boras              27884\n",
            "Paris              27314\n",
            "Montreal           26263\n",
            "Brickhaven         25838\n",
            "Bridgewater        19849\n",
            "Helsinki           19728\n",
            "South Brisbane     18311\n",
            "Kobenhavn          17400\n",
            "Toulouse           14557\n",
            "Glen Waverly       13269\n",
            "Charleroi          11700\n",
            "Burlingame         10388\n",
            "Bruxelles           8412\n",
            "Graz                8339\n",
            "Singapore           6578\n",
            "Allentown           6167\n",
            "Glendale            3500\n",
            "Marseille           2317\n",
            "Name: OrderRevenue, dtype: int64\n"
          ]
        }
      ]
    },
    {
      "cell_type": "code",
      "source": [
        "# capture top 5 cities\n",
        "top_5_cities = revenue_per_city.head(5)\n",
        "\n",
        "# create a pie chart with percentage labels\n",
        "top_5_cities.plot.pie(autopct='%.1f%%',title='Percentage of Exclusive Sales of Top 5 Cities')\n",
        "\n",
        "plt.show()"
      ],
      "metadata": {
        "colab": {
          "base_uri": "https://localhost:8080/",
          "height": 0
        },
        "id": "IA9vBBkcfPiq",
        "outputId": "99543a69-9a45-4235-8571-0b5533cf71dc"
      },
      "execution_count": 33,
      "outputs": [
        {
          "output_type": "display_data",
          "data": {
            "text/plain": [
              "<Figure size 640x480 with 1 Axes>"
            ],
            "image/png": "[encoded data removed]"
          },
          "metadata": {}
        }
      ]
    },
    {
      "cell_type": "markdown",
      "source": [
        "##Recommendations\n",
        "\n",
        "To generate more revenue from top 5 selling cities, the company shoudl consider several strategies:\n",
        "\n",
        "One approach is to charge more for products or services. Another approach is to increase the number of transactions by using various approaches such as offering discounts and special promotions . The company can also improve collections by using technology to automate billing and payment processes. Additionally, the company can create new revenue streams by adding complementary services or products to your current line of products.\n",
        "\n",
        "By implementing these strategies, the company can increase revenues and business growth."
      ],
      "metadata": {
        "id": "HfIojepBLsYv"
      }
    },
    {
      "cell_type": "markdown",
      "source": [],
      "metadata": {
        "id": "-IPitwbiLxES"
      }
    }
  ],
  "metadata": {
    "colab": {
      "provenance": [],
      "collapsed_sections": [
        "uOW4J0HnKwWm",
        "U_uX0LY_Ls4z",
        "DdUTrtaMTb53",
        "uhpItQcITg88",
        "zNqVRwrQUxhc"
      ]
    },
    "kernelspec": {
      "display_name": "Python 3",
      "name": "python3"
    },
    "language_info": {
      "name": "python"
    }
  },
  "nbformat": 4,
  "nbformat_minor": 0
}